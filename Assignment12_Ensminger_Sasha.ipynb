{
 "cells": [
  {
   "cell_type": "markdown",
   "metadata": {},
   "source": [
    "## Assignment12_LastName_FirstName \n",
    "## Due date: Friday, December 3rd at 11:59pm\n",
    "\n",
    "###  Use the following format for homework filename:  \n",
    "\n",
    "`Assignment12_LastName_FirstName.ipynb`\n",
    "\n",
    "\n",
    "#### This assignment is worth 30 points."
   ]
  },
  {
   "cell_type": "code",
   "execution_count": 1,
   "metadata": {},
   "outputs": [],
   "source": [
    "import numpy as np\n",
    "import matplotlib.pyplot as plt\n",
    "import scipy.integrate as spqd\n",
    "%matplotlib inline\n",
    "from scipy.sparse import spdiags\n",
    "from scipy.sparse.linalg import spsolve"
   ]
  },
  {
   "cell_type": "markdown",
   "metadata": {},
   "source": [
    "**Problem 1** (3 points)\n",
    " \n",
    "The Hermite polynomials $H_{n}(x)$ are such that $H_{0}(x)=1$, $H_{1}(x)=2x$, and for $n\\geq2$, $H_{n}(x)$ satisfies the recurrence relationship\n",
    "\n",
    "$$\n",
    "H_{n}(x) = 2xH_{n-1}(x) -2(n-1)H_{n-2}(x), ~ n\\geq 2. \n",
    "$$\n",
    "\n",
    "a) Write a recursive program to find any Hermite polynomial $H_{n}(x)$. \n",
    "\n",
    "b) Generate a plot of the first six Hermite polyonmials on the interval $-3\\leq x \\leq 3$.  Your figure should be labeled, have a legend, and different colors should be used to distinguish the different Hermite polynmials in the plot. "
   ]
  },
  {
   "cell_type": "code",
   "execution_count": 2,
   "metadata": {},
   "outputs": [],
   "source": [
    "# Solution to Problem 1(a)\n",
    "\n",
    "def hermite(n, x):\n",
    "    if n == 0:\n",
    "        return 1\n",
    "    elif n == 1:\n",
    "        return 2*x\n",
    "    else:\n",
    "        h0 = 1\n",
    "        h1 = 2*x\n",
    "        for ii in range(0, n-1):\n",
    "            hn = 2*x*h1 - 2*(n-1)*h0\n",
    "            h0 = h1\n",
    "            h1 = hn\n",
    "        return hn"
   ]
  },
  {
   "cell_type": "code",
   "execution_count": 3,
   "metadata": {},
   "outputs": [
    {
     "data": {
      "image/png": "[encoded data removed]",
      "text/plain": [
       "<Figure size 432x288 with 1 Axes>"
      ]
     },
     "metadata": {
      "needs_background": "light"
     },
     "output_type": "display_data"
    }
   ],
   "source": [
    "# Solution to Problem 1(b)\n",
    "\n",
    "x = np.linspace(-3, 3, 2000)\n",
    "\n",
    "for jj in range(0, 6):\n",
    "    y = np.array([])\n",
    "    for n in x:\n",
    "        y = np.append(y, hermite(jj, n))\n",
    "        \n",
    "    plt.plot(x, y, label = \"jj = {:d}\".format(jj))\n",
    "    \n",
    "plt.legend(loc = \"lower right\")\n",
    "plt.xlabel(\"x\")\n",
    "plt.ylabel(\"$H_n(x)$\")\n",
    "plt.show()"
   ]
  },
  {
   "cell_type": "markdown",
   "metadata": {},
   "source": [
    "**Problem 2** (4 points)\n",
    "\n",
    "Given the data in the Table below, usee a linear interpolant to find the value of y when $x=16$.\n",
    "\n",
    "| $x_i$ |  $y$=$f(x_i)$ \n",
    "| :- |:-----------: \n",
    "|15 | 362.78\n",
    "|20 |517.35\n",
    "\n",
    "\n",
    "You must show work to receive full credit. "
   ]
  },
  {
   "cell_type": "markdown",
   "metadata": {},
   "source": [
    "## Solution to Problem 2\n",
    "\n",
    "We are given: \n",
    "\n",
    "| $x_i$ |  $y$=$f(x_1)$ \n",
    "| :- |:-----------: \n",
    "|15 |362.78\n",
    "|20 |517.35\n",
    "\n",
    "<br>\n",
    "<br>\n",
    "\n",
    "So: \n",
    "$$\n",
    "\\begin{align}\n",
    "f_1(x) & = f(x_0) + \\frac{f_1(x) - f(x_0)}{x_1 - x_0} (x - x_0) \\\\\n",
    "& = 362.78 + \\frac{517.35 - 362.78}{20 - 15} (x - 15) \\\\\n",
    "& = 362.78 + 30.91(x - 15)\n",
    "\\end{align}\n",
    "$$\n",
    "\n",
    "<br>\n",
    "<br>\n",
    "\n",
    "With $x = 16$, we get:\n",
    "$$\n",
    "\\begin{align}\n",
    "f_1(16) & = 362.78 + 30.91(16 - 15) \\\\\n",
    "& = 362.78 + 30.91(1) \\\\\n",
    "& = 393.69\n",
    "\\end{align}\n",
    "$$"
   ]
  },
  {
   "cell_type": "markdown",
   "metadata": {},
   "source": [
    "**Problem 3** (4 points)\n",
    "\n",
    "Given the data in the Table below, determine the value of $f(16)$ using a quadratic interpolant.\n",
    "\n",
    "\n",
    "| $x$ |  $y$=$f(x)$ \n",
    "| :- |:-----------: \n",
    "|10 | 227.04\n",
    "|15 |362.78\n",
    "|20 |517.35\n",
    "\n",
    "\n",
    "You must show work to receive full credit. "
   ]
  },
  {
   "cell_type": "markdown",
   "metadata": {},
   "source": [
    "## Solution to Problem 3\n",
    "\n",
    "We are given: \n",
    "\n",
    "| $x$ |  $y$=$f(x)$ \n",
    "| :- |:-----------: \n",
    "|10 | 227.04\n",
    "|15 |362.78\n",
    "|20 |517.35\n",
    "\n",
    "<br>\n",
    "<br>\n",
    "\n",
    "So: \n",
    "$$\n",
    "f_2(x) = f(x_0) + \\frac{f_1(x) - f(x_0)}{x_1 - x_0} (x - x_0) + \\frac{\\frac{f(x_2) - f(x_1)}{x_2 - x_1} + \\frac{f(x_1) - f(x_0)}{x_0 - x_1}}{x_2 - x_0} (x - x_0) (x - x_1) \\\\\n",
    "f_2(x) = 227.04 + \\frac{362.78 - 227.04}{15 - 10} (x - 10) + \\frac{\\frac{517.35 - 362.78}{20 - 15} + \\frac{362.78 - 227.04}{10 - 15}}{20 - 10} (x - 10) (x - 15) \\\\\n",
    "f_2(x) = 227.04 + \\frac{135.74}{5} (x - 10) + \\frac{\\frac{154.57}{5} + \\frac{135.74}{-5}}{10} (x - 10) (x - 15) \\\\\n",
    "f_2(x) = 227.04 + 27.148(x - 10) + \\frac{30.914 - 27.148}{10} (x - 10) (x - 15) \\\\\n",
    "f_2(x) = 227.04 + 27.148(x - 10) + \\frac{3.766}{10} (x - 10) (x - 15) \\\\\n",
    "f_2(x) = 227.04 + 27.148(x - 10) + 0.3766(x - 10) (x - 15) \\\\\n",
    "$$\n",
    "\n",
    "<br>\n",
    "<br>\n",
    "\n",
    "With $x = 16$, we get:\n",
    "$$\n",
    "\\begin{align}\n",
    "f_2(x) & = 227.04 + 27.148(16 - 10) + 0.3766(16 - 10) (16 - 15) \\\\\n",
    "& = 227.04 + 27.148(6) + 0.3766(6)(1) \\\\\n",
    "& = 227.04 + 162.888 + 2.2596 \\\\\n",
    "& = 392.1876\n",
    "\\end{align}\n",
    "$$"
   ]
  },
  {
   "cell_type": "markdown",
   "metadata": {},
   "source": [
    "**Problem 4** (5 points)\n",
    "\n",
    "Watch the lecture on Newton's divided difference interpolation and complete the following problem.\n",
    "\n",
    "In the table below, we display the finite divided differences for the Newton’s Interpolating Polynomials.\n",
    "\n",
    "\n",
    "| $x$ | $f$( ) | $f$[ , ]                |  $f$[ , , ]         | $f$[ , , , ]\n",
    "| :- |-------: | :--------:| :--------: | :--------:\n",
    "|$x_0$| $f $($x_0$) | $f $[ $x_1$,$x_0$ ] |$f$ [$x_2$ , $x_1$ , $x_0$] |$f$ [$x_3$ , $x_2$ , $x_1$ , $x_0$]\n",
    "$x_1$| $f $($x_1$)  |$f $[ $x_2$,$x_1$ ]  |$f$ [$x_3$ , $x_2$ , $x_1$]\n",
    "$x_2$| $f $($x_2$)  | $f $[ $x_3$,$x_2$ ] |\n",
    "$x_3$| $f $($x_3$)  | \n",
    "\n",
    "The first two columns are provided for you, complete the remaining part of the table below for  $f$ [$x_1$,$x_0$], $f$ [$x_2$,$x_1$], $f$ [$x_3$,$x_2$], $f$ [$x_2$,$x_1$,$x_0$], $f$ [$x_3$,$x_2$,$x_1$], and $f$ [$x_3$,$x_2$,$x_1$,$x_0$].\n",
    "\n",
    "| $x$ | $f$( ) | $f$[ , ]                |  $f$[ , , ]         | $f$[ , , , ]\n",
    "| :- |:-------: | :--------:| :--------: | :--------:\n",
    "|$4$| 0.6020600 |  | |\n",
    "$4.5$| 0.6532125  |  | \n",
    "$5.5$| 0.7403627  |  |\n",
    "$6$| 0.7781513  | \n",
    "\n",
    "You must show work to receive full credit."
   ]
  },
  {
   "cell_type": "markdown",
   "metadata": {},
   "source": [
    "## Solution for Problem 4\n",
    "\n",
    "$$\n",
    "\\begin{align}\n",
    "f(x_1, x_0) & = \\frac{f(x_1) - f(x_0)}{x_1 - x_0} = \\frac{0.6532125 - 0.6020600}{4.5 - 4} = 0.102305 \\\\\n",
    "f(x_2, x_1) & = \\frac{f(x_2) - f(x_1)}{x_2 - x_1} = \\frac{0.7403627 - 0.6532125}{5.5 - 4.5} = 0.0871502 \\\\\n",
    "f(x_3, x_2) & = \\frac{f(x_3) - f(x_2)}{x_3 - x_2} = \\frac{0.7781513 - 0.7403627}{6 - 5.5} = 0.0755772 \\\\\n",
    "f(x_2, x_1, x_0) & = \\frac{f(x_2, x_1) - f(x_1, x_0)}{x_2 - x_0} = \\frac{0.0871502 - 0.102305}{5.5 - 4} = -0.0101032 \\\\\n",
    "f(x_3, x_2, x_1) & = \\frac{f(x_3, x_2) - f(x_2, x_1)}{x_3 - x_1} = \\frac{0.0755772 - 0.0871502}{6 - 4.5} = -0.0077153 \\\\\n",
    "f(x_3, x_2, x_1, x_0) & = \\frac{f(x_3, x_2, x_1) - f(x_2, x_1, x_0)}{x_3 - x_0} = \\frac{-0.0077153 - (-0.0101032)}{6 - 4} = 0.00119395 \\\\\n",
    "\\end{align}\n",
    "$$\n",
    "\n",
    "<br>\n",
    "<br> \n",
    "\n",
    "The completed table is: \n",
    "\n",
    "| $x$ | $f$( ) | $f$[ , ]                |  $f$[ , , ]         | $f$[ , , , ]\n",
    "| :- |:-------: | :--------:| :--------: | :--------:\n",
    "|$4$| $0.6020600$ | $0.102305$ | $-0.010103$ | $0.00119395$\n",
    "$4.5$| $0.6532125$  | $0.0871502$ | $-0.0077153$\n",
    "$5.5$| $0.7403627$  | $0.0755772$ |\n",
    "$6$| $0.7781513$  | \n",
    "\n",
    "<br>\n",
    "<br>\n",
    "\n",
    "So we get: \n",
    "\n",
    "$$\n",
    "\\begin{align}\n",
    "f(x) & = f(x_0) + f(x_1, x_0)(x - x_0) + f(x_2, x_1, x_0)(x - x_0)(x - x_1) + f(x_3, x_2, x_1, x_0)(x - x_0)(x - x_1)(x - x_2) \\\\\n",
    "& = 0.6020600 + 0.102305(x - 4) - 0.0101032(x - 4)(x - 4.5) + 0.00119395(x - 4)(x - 4.5)(x - 5.5) \\\\\n",
    "& = 0.6020600 + 0.102305(x - 4) - 0.0101032(x^2 - 8.5x + 18) + 0.00119395(x - 4)(x^2 - 10x + 24.75) \\\\\n",
    "& = 0.6020600 + 0.102305(x - 4) - 0.0101032(x^2 - 8.5x + 18) + 0.00119395(x^3 - 10x^2 + 24.75x - 4x^2 + 40x - 99) \\\\\n",
    "& = 0.6020600 + 0.102305(x - 4) - 0.0101032(x^2 - 8.5x + 18) + 0.00119395(x^3 - 14x^2 + 74.75x - 99) \\\\\n",
    "& = 0.6020600 + 0.102305x - 0.40922 - 0.0101032x^2 + 0.0858772x - 0.1818576 + 0.00119395x^3 - 0.0167153x^2 + 0.0892477625x - 0.11820105 \\\\\n",
    "& = 0.00119395x^3 - 0.0101032x^2 -  0.0167146x^2 + 0.102305x + 0.0858772x + 0.0892477625x + 0.6020600 - 0.40922 - 0.1818576 - 0.11820105 \\\\\n",
    "& = 0.00119395x^3 - 0.0268178x^2 + 0.2774299625x - 0.10721865 \\\\\n",
    "\\end{align}\n",
    "$$"
   ]
  },
  {
   "cell_type": "markdown",
   "metadata": {},
   "source": [
    "**Problem 5** (5 points)\n",
    "\n",
    "Given the following data points in the table:\n",
    "\n",
    "| $x_i$ |  $y$=$f(x_i)$ \n",
    "| :- |:-----------: \n",
    "|0 | 1 \n",
    "|0.5 |1.8987\n",
    "|1 |3.7183\n",
    "|2 |11.3891\n",
    "\n",
    "[a.] Compute the Lagrange interpolation polynomial of degree 3 from the data in the table (you may use the  functions lagran_interp() and lfun() from Lecture Eleven notes on GitHub), then use it to estimate the value of $f(x)$ for `x = np.linspace(0,2,20)`. \n",
    "\n",
    "(i) Plot the data in the table (use red astericks) \n",
    "\n",
    "(ii) on the same figure, plot `x = np.linspace(0,2,20)` against the estimated values of $f(x)$ obtained using lagrange interpolation. (use black astericks)\n",
    "\n",
    "[b.] Write a program that generates a cubic interpolant of the Newton's divided difference polynomial for the data in the table above. Use the cubic interpolant to estimate the value of $f(x)$ for `x = np.linspace(0,2,20)`.\n",
    "\n",
    "(i) Plot the estimated values of $f(x)$ obtained using the cubic interpolant of the Newton's divided difference polynomial against `x = np.linspace(0,2,20)`  (use green astericks). \n",
    "\n",
    "(ii) On the same figure, plot the estimated values of $f(x)$ obtained via lagrange interpolation against `x = np.linspace(0,2,20)` (use blue astericks). \n",
    "\n",
    "(iii) Plot log (to base 10) of the difference between the estimate of $f(x)$ obtained using lagrange interpolation and cubic interpolant of the Newton's divided difference polynomial.\n",
    "\n",
    "\n"
   ]
  },
  {
   "cell_type": "code",
   "execution_count": 4,
   "metadata": {
    "scrolled": false
   },
   "outputs": [
    {
     "data": {
      "text/plain": [
       "Text(0, 0.5, '$P_3(x)$')"
      ]
     },
     "execution_count": 4,
     "metadata": {},
     "output_type": "execute_result"
    },
    {
     "data": {
      "image/png": "[encoded data removed]",
      "text/plain": [
       "<Figure size 432x288 with 1 Axes>"
      ]
     },
     "metadata": {
      "needs_background": "light"
     },
     "output_type": "display_data"
    }
   ],
   "source": [
    "# Solution for Problem 5a\n",
    "\n",
    "def lfun(xvals, ii, x):\n",
    "    lval = np.ones(x.size)\n",
    "    n = xvals.size\n",
    "    for ll in range(0, n):\n",
    "        if ll != ii:\n",
    "            lval *= (x - xvals[ll])/(xvals[ii] - xvals[ll])\n",
    "    return lval\n",
    "\n",
    "def lagran_interp(xvals, fvals, x):\n",
    "    n = fvals.size\n",
    "    ipoly = np.zeros(x.size)\n",
    "    for jj in range(0, n):\n",
    "        ipoly += fvals[jj]*lfun(xvals, jj, x)\n",
    "    return ipoly\n",
    "\n",
    "xvals = np.array([0, 0.5, 1, 2])\n",
    "yvals = np.array([1, 1.8987, 3.7183, 11.3891])\n",
    "xinterp = np.linspace(0, 2, 20)\n",
    "yinterp = lagran_interp(xvals, yvals, xinterp)\n",
    "plt.plot(xinterp, yinterp, \"*\", color = \"k\")\n",
    "plt.plot(xvals, yvals, \"*\", color = \"r\")\n",
    "plt.xlabel(\"$x$\")\n",
    "plt.ylabel(\"$P_3(x)$\")"
   ]
  },
  {
   "cell_type": "code",
   "execution_count": 5,
   "metadata": {},
   "outputs": [
    {
     "data": {
      "image/png": "[encoded data removed]",
      "text/plain": [
       "<Figure size 432x288 with 1 Axes>"
      ]
     },
     "metadata": {
      "needs_background": "light"
     },
     "output_type": "display_data"
    }
   ],
   "source": [
    "# Solution for Problem 5b\n",
    "\n",
    "def b0(f0):\n",
    "    return f0 \n",
    "\n",
    "def b1(f0, f1, x0, x1):\n",
    "    return (f1 - f0)/(x1 - x0)\n",
    "\n",
    "def b2(f0, f1, f2, x0, x1, x2):\n",
    "    return (b1(f1, f2, x1, x2) - b1(f0, f1, x0, x1))/(x2 - x0)\n",
    "\n",
    "def b3(f0, f1, f2, f3, x0, x1, x2, x3):\n",
    "    return (b2(f1, f2, f3, x1, x2, x3) - b2(f0, f1, f2, x0, x1, x2))/(x3 - x0)\n",
    "\n",
    "def linear(f0, f1, x, x0, x1):\n",
    "    return b0(f0) + b1(f0, f1, x0, x1)*(x - x0)\n",
    "\n",
    "def quad(f0, f1, f2, x, x0, x1, x2):\n",
    "    return b0(f0) + b1(f0, f1, x0, x1)*(x - x0) + b2(f0, f1, f2, x0, x1, x2)*(x - x0)*(x - x1)\n",
    "\n",
    "def cubic(f0, f1, f2, f3, x, x0, x1, x2, x3):\n",
    "    return b0(f0) + b1(f0, f1, x0, x1)*(x - x0) + b2(f0, f1, f2, x0, x1, x2)*(x - x0)*(x - x1) + b3(f0, f1, f2, f3, x0, x1, x2, x3)*(x - x0)*(x - x1)*(x - x2)\n",
    "\n",
    "cubic_int = cubic(yvals[0], yvals[1], yvals[2], yvals[3], xinterp, xvals[0], xvals[1], xvals[2], xvals[3])\n",
    "\n",
    "plt.plot(xinterp, cubic_int, \"*\", color = \"g\", markersize = 10)\n",
    "plt.plot(xinterp, yinterp, \"*\", color = \"b\", markersize = 5) \n",
    "plt.xlabel(\"$x$\")\n",
    "plt.ylabel(\"$y$\")\n",
    "plt.show()"
   ]
  },
  {
   "cell_type": "markdown",
   "metadata": {},
   "source": [
    "**Problem 6** (4 points)\n",
    "\n",
    "Develop quadratic splines for the following data points in the following table.\n",
    "\n",
    "| $x$| $f(x)$|\n",
    "|:---:|:------:|\n",
    "|-1.00|-1.0000|\n",
    "|-0.65|0.3860|\n",
    "|0.10|0.4802|\n",
    "|0.40|0.8838|\n",
    "|1.00|1.0000|\n",
    "\n",
    "Using quadratic splines, estimate the value of $f(-0.3)$.\n",
    "\n",
    "You must show your work to get full credit."
   ]
  },
  {
   "cell_type": "markdown",
   "metadata": {},
   "source": [
    "## Solution for Problem 6\n",
    "\n",
    "We are given: \n",
    "\n",
    "| $x$| $f(x)$|\n",
    "|:---:|:------:|\n",
    "|-1.00|-1.0000|\n",
    "|-0.65|0.3860|\n",
    "|0.10|0.4802|\n",
    "|0.40|0.8838|\n",
    "|1.00|1.0000|\n",
    "\n",
    "<br>\n",
    "<br>\n",
    "\n",
    "We need 4 splines: \n",
    "$$\n",
    "\\begin{align}\n",
    "f(x) & = a_1x^2 + b_1x + c_1, & -1.00 \\le x \\le -0.65 \\\\\n",
    "f(x) & = a_2x^2 + b_2x + c_2, & -0.65 \\le x \\le 0.10 \\\\\n",
    "f(x) & = a_3x^2 + b_3x + c_3, & 0.10 \\le x \\le 0.40 \\\\\n",
    "f(x) & = a_4x^2 + b_4x + c_4, & 0.40 \\le x \\le 1.00 \\\\\n",
    "\\end{align}\n",
    "$$\n",
    "\n",
    "<br>\n",
    "<br>\n",
    "\n",
    "Assuming the first spline is linear, then $a_1 = 0$.\n",
    "\n",
    "End points:\n",
    "$$\n",
    "\\begin{align}\n",
    "a_1(-1.00)^2 + b_1(-1.00) + c_1 & = -1.0000 \\\\\n",
    "a_4(1.00)^2 + b_4(1.00) + c_4 & = 1.0000 \\\\\n",
    "\\end{align}\n",
    "$$\n",
    "\n",
    "Interior points: \n",
    "$$\n",
    "\\begin{align}\n",
    "a_1(-0.65)^2 + b_1(-0.65) + c_1 & = 0.3860 \\\\\n",
    "a_2(-0.65)^2 + b_2(-0.65) + c_2 & = 0.3860 \\\\\n",
    "a_2(0.10)^2 + b_2(0.10) + c_2 & = 0.4802 \\\\\n",
    "a_3(0.10)^2 + b_3(0.10) + c_3 & = 0.4802 \\\\\n",
    "a_3(0.40)^2 + b_3(0.40) + c_3 & = 0.8838 \\\\\n",
    "a_4(0.40)^2 + b_4(0.40) + c_4 & = 0.8838 \\\\\n",
    "\\end{align}\n",
    "$$\n",
    "\n",
    "Derivatives at interior points:\n",
    "$$\n",
    "\\begin{align}\n",
    "2a_1(-0.65) + b_1 & = 2a_2(-0.65) + b_2 \\\\\n",
    "2a_2(0.10) + b_2 & = 2a_3(0.10) + b_3 \\\\\n",
    "2a_3(0.40) + b_3 & = 2a_4(0.40) + b_4 \\\\\n",
    "\\end{align}\n",
    "$$\n",
    "\n",
    "<br>\n",
    "<br>\n",
    "\n",
    "So:\n",
    "$$\n",
    "\\begin{bmatrix} \n",
    "-1 & 1 & 0 & 0 & 0 & 0 & 0 & 0 & 0 & 0 & 0 \\\\ \n",
    "0 & 0 & 0 & 0 & 0 & 0 & 0 & 0 & 1 & 1 & 1 \\\\ \n",
    "-0.65 & 1 & 0 & 0 & 0 & 0 & 0 & 0 & 0 & 0 & 0 \\\\ \n",
    "0 & 0 & 0.4225 & -0.65 & 1 & 0 & 0 & 0 & 0 & 0 & 0 \\\\ \n",
    "0 & 0 & 0.01 & 0.1 & 1 & 0 & 0 & 0 & 0 & 0 & 0 \\\\ \n",
    "0 & 0 & 0 & 0 & 0 & 0.01 & 0.1 & 1 & 0 & 0 & 0 \\\\ \n",
    "0 & 0 & 0 & 0 & 0 & 0.16 & 0.4 & 1 & 0 & 0 & 0 \\\\ \n",
    "0 & 0 & 0 & 0 & 0 & 0 & 0 & 0 & 0.16 & 0.4 & 1 \\\\ \n",
    "1 & 0 & 1.3 & 1 & 0 & 0 & 0 & 0 & 0 & 0 & 0 \\\\ \n",
    "0 & 0 & 0.2 & 1 & 0 & 0.2 & 1 & 0 & 0 & 0 & 0 \\\\ \n",
    "0 & 0 & 0 & 0 & 0 & 0.8 & 1 & 0 & 0.8 & 1 & 0 \\\\ \n",
    "\\end{bmatrix}\n",
    "\\begin{bmatrix}\n",
    "b_1 \\\\ c_1 \\\\ a_2 \\\\ b_2 \\\\ c_2 \\\\ a_3 \\\\ b_3 \\\\ c_3 \\\\ a_4 \\\\ b_4 \\\\ c_4 \\\\\n",
    "\\end{bmatrix}\n",
    "= \n",
    "\\begin{bmatrix}\n",
    "-1.0000 \\\\ 1.0000 \\\\ 0.3860 \\\\ 0.3860 \\\\ 0.4802 \\\\ 0.4802 \\\\ 0.8838 \\\\ 0.8838 \\\\ 0 \\\\ 0 \\\\ 0 \\\\\n",
    "\\end{bmatrix}\n",
    "$$"
   ]
  },
  {
   "cell_type": "code",
   "execution_count": 6,
   "metadata": {},
   "outputs": [
    {
     "name": "stdout",
     "output_type": "stream",
     "text": [
      "[  3.96         2.96        -5.11253333  -2.68629333   0.79995467\n",
      "  16.84711111  -7.07822222   1.01955111 -10.343       14.67386667\n",
      "  -3.33086667]\n"
     ]
    }
   ],
   "source": [
    "A = np.array([[-1, 1, 0, 0, 0, 0, 0, 0, 0, 0, 0],\n",
    "              [ 0, 0, 0, 0, 0, 0, 0, 0, 1, 1, 1],\n",
    "              [-0.65, 1, 0, 0, 0, 0, 0, 0, 0, 0, 0],\n",
    "              [0, 0, 0.4225, -0.65, 1, 0, 0, 0, 0, 0, 0],\n",
    "              [0, 0, 0.01, 0.1, 1, 0, 0, 0, 0, 0, 0],\n",
    "              [0, 0, 0, 0, 0, 0.01, 0.1, 1, 0, 0, 0],\n",
    "              [0, 0, 0, 0, 0, 0.16, 0.4, 1, 0, 0, 0],\n",
    "              [0, 0, 0, 0, 0, 0, 0, 0, 0.16, 0.4, 1],\n",
    "              [1, 0, 1.3, -1, 0, 0, 0, 0, 0, 0, 0],\n",
    "              [0, 0, 0.2, 1, 0, -0.2, -1, 0, 0, 0, 0],\n",
    "              [0, 0, 0, 0, 0, 0.8, 1, 0, -0.8, -1, 0]])\n",
    "B = np.array([-1, 1, 0.386, 0.386, 0.4802, 0.4802, 0.8838, 0.8838, 0, 0, 0])\n",
    "\n",
    "x = np.linalg.solve(A, B)\n",
    "print(x)"
   ]
  },
  {
   "cell_type": "markdown",
   "metadata": {},
   "source": [
    "$$\n",
    "\\begin{bmatrix}\n",
    "b_1 \\\\ c_1 \\\\ a_2 \\\\ b_2 \\\\ c_2 \\\\ a_3 \\\\ b_3 \\\\ c_3 \\\\ a_4 \\\\ b_4 \\\\ c_4 \\\\\n",
    "\\end{bmatrix}\n",
    "= \n",
    "\\begin{bmatrix}\n",
    "3.9600 \\\\ 2.9600 \\\\ -5.1125 \\\\ -2.6863 \\\\ 0.7999 \\\\ 16.8471 \\\\ -7.0782 \\\\ 1.0196 \\\\ -10.3430 \\\\ 14.6739 \\\\ -3.3309\n",
    "\\end{bmatrix}\n",
    "$$\n",
    "\n",
    "<br>\n",
    "<br>\n",
    "\n",
    "From the 4 splines: \n",
    "$$\n",
    "\\begin{align}\n",
    "f(x) & = a_1x^2 + b_1x + c_1 ~ ~ \\Rightarrow ~ ~ 3.9600x + 2.9600\\\\\n",
    "f(x) & = a_2x^2 + b_2x + c_2 ~ ~ \\Rightarrow ~ ~ -5.1125x^2 - 2.6863x +  0.7999 \\\\\n",
    "f(x) & = a_3x^2 + b_3x + c_3 ~ ~ \\Rightarrow ~ ~ 16.8471x^2 - 7.0782x +  1.0196 \\\\\n",
    "f(x) & = a_4x^2 + b_4x + c_4 ~ ~ \\Rightarrow ~ ~ -10.3430x^2 + 14.673x -  3.3309 \\\\\n",
    "\\end{align}\n",
    "$$\n",
    "\n",
    "<br>\n",
    "<br>\n",
    "\n",
    "With $x = -0.3$, we get:\n",
    "$$\n",
    "f(-0.3) = 3.9600(-0.3) + 2.9600 = 1.772\n",
    "$$"
   ]
  },
  {
   "cell_type": "markdown",
   "metadata": {},
   "source": [
    "**Problem 7** (5 points) \n",
    "\n",
    "Look up and download the closing values of Dow Jones Industrial Average (DJIA) from September 06 - 10, 2021. https://www.wsj.com/market-data/quotes/index/DJIA/historical-prices\n",
    "\n",
    "Using cubic spline interpolation, try to predict the opening value on Thursday September 09, 2021.\n",
    "\n",
    "a) Compare the prediction from cubic spline interpolation to the different interpolation methods (Newton's divided difference polynomial interpolation and Lagrange Interpolation).\n",
    "\n",
    "b) Compare the prediction from the different interpolation methods to the real opening value on Thursday September 09, 2021. Identify the method that produces the best prediction.\n",
    "\n",
    "You must show work including codes to receive credit\n",
    "\n",
    "Hint: The value of DJIA is based on stock prices, so the index value will only change when the U.S. stock exchanges are open. The U.S. stock exchanges are open from 9:30 a.m. to 4:00 p.m. ET, Monday through Friday.\n",
    "\n",
    "\n"
   ]
  },
  {
   "cell_type": "code",
   "execution_count": 7,
   "metadata": {
    "scrolled": true
   },
   "outputs": [
    {
     "data": {
      "text/plain": [
       "<matplotlib.legend.Legend at 0x7ffe6b7b2610>"
      ]
     },
     "execution_count": 7,
     "metadata": {},
     "output_type": "execute_result"
    },
    {
     "data": {
      "image/png": "[encoded data removed]",
      "text/plain": [
       "<Figure size 432x288 with 1 Axes>"
      ]
     },
     "metadata": {
      "needs_background": "light"
     },
     "output_type": "display_data"
    }
   ],
   "source": [
    "#  Solution for Problem 7 \n",
    "\n",
    "def lfun(xvals, ii, x):\n",
    "    lval = np.ones(x.size)\n",
    "    n = xvals.size\n",
    "    for ll in range(0, n):\n",
    "        if ll != ii:\n",
    "            lval *= (x - xvals[ll])/(xvals[ii] - xvals[ll])\n",
    "    return lval\n",
    "def lagran_interp(xvals, fvals, x):\n",
    "    n = fvals.size\n",
    "    ipoly = np.zeros(x.size)\n",
    "    for jj in range(0, n):\n",
    "        ipoly += fvals[jj]*lfun(xvals, jj, x)\n",
    "    return ipoly\n",
    "\n",
    "xvals = np.array([35373.24, 35087.45, 35013.08, 34949.59])\n",
    "yvals = np.array([35100, 35031.07, 34879.38, 34607.72])\n",
    "xinterp = np.linspace(34940, 35390, 20)\n",
    "yinterp = lagran_interp(xvals, yvals, xinterp)\n",
    "plt.plot(xinterp, yinterp, \"*\", color = \"b\", label = \"Lagrange\", markersize = 9)\n",
    "plt.plot(xvals, yvals, \"o\", color = \"orange\", label = \"Data\", markersize = 7)\n",
    "plt.legend(loc = \"lower right\")\n",
    "\n",
    "def b0(f0):\n",
    "    return f0 \n",
    "def b1(f0, f1, x0, x1):\n",
    "    return (f1 - f0)/(x1 - x0)\n",
    "def b2(f0, f1, f2, x0, x1, x2):\n",
    "    return (b1(f1, f2, x1, x2) - b1(f0, f1, x0, x1))/(x2 - x0)\n",
    "def b3(f0, f1, f2, f3, x0, x1, x2, x3):\n",
    "    return (b2(f1, f2, f3, x1, x2, x3) - b2(f0, f1, f2, x0, x1, x2))/(x3 - x0)\n",
    "def linear(f0, f1, x, x0, x1):\n",
    "    return b0(f0) + b1(f0, f1, x0, x1)*(x - x0)\n",
    "def quad(f0, f1, f2, x, x0, x1, x2):\n",
    "    return b0(f0) + b1(f0, f1, x0, x1)*(x - x0) + b2(f0, f1, f2, x0, x1, x2)*(x - x0)*(x - x1)\n",
    "def cubic(f0, f1, f2, f3, x, x0, x1, x2, x3):\n",
    "    return b0(f0) + b1(f0, f1, x0, x1)*(x - x0) + b2(f0, f1, f2, x0, x1, x2)*(x - x0)*(x - x1) + b3(f0, f1, f2, f3, x0, x1, x2, x3)*(x - x0)*(x - x1)*(x - x2)\n",
    "cubic_int = cubic(yvals[0], yvals[1], yvals[2], yvals[3], xinterp, xvals[0], xvals[1], xvals[2], xvals[3])\n",
    "\n",
    "plt.plot(xinterp, cubic_int, \".\", color = \"r\", label = \"Newtons\", markersize = 7)\n",
    "plt.legend(loc = \"lower right\")"
   ]
  }
 ],
 "metadata": {
  "kernelspec": {
   "display_name": "Python 3",
   "language": "python",
   "name": "python3"
  },
  "language_info": {
   "codemirror_mode": {
    "name": "ipython",
    "version": 3
   },
   "file_extension": ".py",
   "mimetype": "text/x-python",
   "name": "python",
   "nbconvert_exporter": "python",
   "pygments_lexer": "ipython3",
   "version": "3.8.8"
  }
 },
 "nbformat": 4,
 "nbformat_minor": 2
}
